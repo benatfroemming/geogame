{
 "cells": [
  {
   "cell_type": "code",
   "execution_count": 1,
   "id": "76104bc0",
   "metadata": {},
   "outputs": [
    {
     "name": "stdout",
     "output_type": "stream",
     "text": [
      "Simplified GeoJSON saved to simplified.geojson\n"
     ]
    }
   ],
   "source": [
    "import json\n",
    "\n",
    "# Load original GeoJSON\n",
    "with open(\"./assets/osm-countries.json\", \"r\", encoding=\"utf-8\") as f:\n",
    "    data = json.load(f)\n",
    "\n",
    "# Build new features list\n",
    "new_features = []\n",
    "for idx, feature in enumerate(data[\"features\"]):\n",
    "    props = feature.get(\"properties\", {})\n",
    "    new_feature = {\n",
    "        \"type\": \"Feature\",\n",
    "        \"properties\": {\n",
    "            \"ADMIN\": props.get(\"name:en\"),\n",
    "            \"ISO_A2\": props.get(\"ISO3166-1:alpha2\"),\n",
    "            \"ISO_A3\": props.get(\"ISO3166-1:alpha3\"),\n",
    "        },\n",
    "        \"geometry\": feature.get(\"geometry\"),\n",
    "        \"id\": idx  # top-level id field\n",
    "    }\n",
    "    new_features.append(new_feature)\n",
    "\n",
    "# Create simplified GeoJSON\n",
    "simplified_data = {\n",
    "    \"type\": \"FeatureCollection\",\n",
    "    \"features\": new_features\n",
    "}\n",
    "\n",
    "# Save to output file\n",
    "with open(\"simplified.geojson\", \"w\", encoding=\"utf-8\") as f:\n",
    "    json.dump(simplified_data, f, ensure_ascii=False, indent=2)\n",
    "\n",
    "print(\"Simplified GeoJSON saved to simplified.geojson\")\n"
   ]
  },
  {
   "cell_type": "code",
   "execution_count": 2,
   "id": "b3f4d117",
   "metadata": {},
   "outputs": [
    {
     "name": "stdout",
     "output_type": "stream",
     "text": [
      "Simplified GeoJSON saved to simplified.geojson\n"
     ]
    }
   ],
   "source": [
    "import json\n",
    "\n",
    "# Load original GeoJSON\n",
    "with open(\"./assets/osm-countries1.geojson\", \"r\", encoding=\"utf-8\") as f:\n",
    "    data = json.load(f)\n",
    "\n",
    "# Build new features list\n",
    "new_features = []\n",
    "for idx, feature in enumerate(data[\"features\"]):\n",
    "    props = feature.get(\"properties\", {})\n",
    "    tags = props.get(\"tags\", {})\n",
    "\n",
    "    new_feature = {\n",
    "        \"type\": \"Feature\",\n",
    "        \"properties\": {\n",
    "            \"ADMIN\": tags.get(\"name:en\", \"\"),           # Fallback to empty string if not found\n",
    "            \"ISO_A2\": tags.get(\"ISO3166-1:alpha2\", \"\"),\n",
    "            \"ISO_A3\": tags.get(\"ISO3166-1:alpha3\", \"\")\n",
    "        },\n",
    "        \"geometry\": feature.get(\"geometry\"),\n",
    "        \"id\": idx\n",
    "    }\n",
    "    new_features.append(new_feature)\n",
    "\n",
    "# Create simplified GeoJSON\n",
    "simplified_data = {\n",
    "    \"type\": \"FeatureCollection\",\n",
    "    \"features\": new_features\n",
    "}\n",
    "\n",
    "# Save to output file\n",
    "with open(\"simplified.geojson\", \"w\", encoding=\"utf-8\") as f:\n",
    "    json.dump(simplified_data, f, ensure_ascii=False, separators=(\",\", \":\"))\n",
    "\n",
    "print(\"Simplified GeoJSON saved to simplified.geojson\")\n"
   ]
  }
 ],
 "metadata": {
  "kernelspec": {
   "display_name": "base",
   "language": "python",
   "name": "python3"
  },
  "language_info": {
   "codemirror_mode": {
    "name": "ipython",
    "version": 3
   },
   "file_extension": ".py",
   "mimetype": "text/x-python",
   "name": "python",
   "nbconvert_exporter": "python",
   "pygments_lexer": "ipython3",
   "version": "3.12.7"
  }
 },
 "nbformat": 4,
 "nbformat_minor": 5
}
